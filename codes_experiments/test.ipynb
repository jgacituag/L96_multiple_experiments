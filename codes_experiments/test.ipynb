{
 "cells": [
  {
   "cell_type": "code",
   "execution_count": 6,
   "id": "1ece9832",
   "metadata": {},
   "outputs": [
    {
     "name": "stdout",
     "output_type": "stream",
     "text": [
      "i: 0.0\n",
      "itemps: [0.33333333 0.33333333 0.33333333]\n",
      "i: 0.25\n",
      "itemps: [0.47170973 0.28610642 0.24218385]\n",
      "i: 0.5\n",
      "itemps: [0.61294168 0.22548864 0.16156967]\n",
      "i: 0.75\n",
      "itemps: [0.73612472 0.16425163 0.09962365]\n",
      "i: 1.0\n",
      "itemps: [0.83000037 0.11232834 0.05767129]\n",
      "i: 1.25\n",
      "itemps: [0.89464724 0.07343712 0.03191564]\n",
      "i: 1.5\n",
      "itemps: [0.93623955 0.04661262 0.01714783]\n",
      "i: 1.75\n",
      "itemps: [0.96190755 0.02904709 0.00904536]\n",
      "i: 2.0\n",
      "itemps: [0.97737992 0.01790134 0.00471874]\n",
      "i: 2.25\n",
      "itemps: [0.9865944  0.01096007 0.00244552]\n",
      "i: 2.5\n",
      "itemps: [0.99205308 0.0066844  0.00126252]\n",
      "i: 2.75\n",
      "itemps: [9.95282200e-01 4.06749087e-03 6.50309407e-04]\n",
      "i: 3.0\n",
      "itemps: [9.97193683e-01 2.47179601e-03 3.34521213e-04]\n",
      "i: 3.25\n",
      "itemps: [9.98327132e-01 1.50092414e-03 1.71944134e-04]\n",
      "i: 3.5\n",
      "itemps: [9.99000691e-01 9.10970713e-04 8.83386227e-05]\n",
      "i: 3.75\n",
      "itemps: [9.99401874e-01 5.52753556e-04 4.53727749e-05]\n"
     ]
    }
   ],
   "source": [
    "import numpy as np\n",
    "import sys\n",
    "\n",
    "def get_temp_steps( NTemp , Alpha ) :\n",
    "    \n",
    "   #NTemp is the number of tempering steps to be performed.\n",
    "   #Alpha is a slope coefficient. Larger alpha means only a small part of the information\n",
    "   #will be assimilated in the first step (and the largest part will be assimilated in the last step).\n",
    "\n",
    "   dt=1.0/float(NTemp+1)\n",
    "   steps = np.exp( 1.0 * Alpha / np.arange( dt , 1.0-dt/100.0 , dt ) )\n",
    "   steps = steps / np.sum(steps)\n",
    "\n",
    "   return steps \n",
    "for i in np.arange(0, 4,0.25):\n",
    "        print(f\"i: {i}\")\n",
    "        itemps = get_temp_steps(3, i)\n",
    "        print(f\"itemps: {itemps}\")"
   ]
  }
 ],
 "metadata": {
  "kernelspec": {
   "display_name": "base",
   "language": "python",
   "name": "python3"
  },
  "language_info": {
   "codemirror_mode": {
    "name": "ipython",
    "version": 3
   },
   "file_extension": ".py",
   "mimetype": "text/x-python",
   "name": "python",
   "nbconvert_exporter": "python",
   "pygments_lexer": "ipython3",
   "version": "3.12.9"
  }
 },
 "nbformat": 4,
 "nbformat_minor": 5
}
